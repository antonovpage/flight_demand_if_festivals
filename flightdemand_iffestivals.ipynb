{
 "cells": [
  {
   "cell_type": "markdown",
   "metadata": {},
   "source": [
    "# Аналитика в авиакомпании"
   ]
  },
  {
   "cell_type": "markdown",
   "metadata": {},
   "source": [
    "## Описание проекта"
   ]
  },
  {
   "cell_type": "markdown",
   "metadata": {},
   "source": [
    "F9 - российская авиакомпания, которая выполняет внутренние пассажирские перевозки. Для развития компании важно понять предпочтения пользователей, покупающих билеты на разные направления.\n",
    "Необходимо изучить базу данных и проанализировать спрос пассажиров на рейсы в города, где проходят крупнейшие фестивали."
   ]
  },
  {
   "cell_type": "markdown",
   "metadata": {},
   "source": [
    "<b> Данные: </b>\n",
    "\n",
    "База данных об авиаперевозках состоит из нескольких таблиц:\n",
    "\n",
    "Таблица <b> airports </b> — информация об аэропортах, трёхбуквенный код аэропорта, название аэропорта, город, часовой пояс;\n",
    "\n",
    "Таблица <b> aircrafts </b> — информация о самолётах, код модели самолёта, модель самолёта, дальность полётов;\n",
    "\n",
    "Таблица <b> tickets </b> — информация о билетах, уникальный номер билета, уникальный идентификатор пассажира, имя и фамилия пассажира; \n",
    "\n",
    "Таблица <b> flights </b> — информация о рейсах, уникальный идентификатор рейса, аэропорт вылета, дата и время вылета, аэропорт прилёта, дата и время прилёта, уникальный идентификатор самолёта;\n",
    "\n",
    "Таблица <b> ticket_flights </b> — стыковая таблица «рейсы-билеты», номер билета, уникальный идентификатор рейса;\n",
    "\n",
    "Таблица <b> festivals </b> — информация о фестивалях, уникальный номер фестиваля, дата проведения фестиваля, город проведения фестиваля, название фестиваля.\n",
    "\n",
    "<b> Примечание:</b> В базе данных нет прямой связи между таблицами airports и festivals, а также festivals и flights.\n",
    "\n",
    "Проект состоит из двух частей: парсер для сбора с сайта данных и Jupyter Notebook для исследовательского анализа данных."
   ]
  },
  {
   "cell_type": "markdown",
   "metadata": {},
   "source": [
    "## Парсинг данных"
   ]
  },
  {
   "cell_type": "markdown",
   "metadata": {},
   "source": [
    "<b>Задачи:</b>\n",
    "\n",
    "1. Напишем парсер для сбора с сайта данных о 11 крупнейших фестивалях 2018 года. Сохраним данные в датафрейм festivals."
   ]
  },
  {
   "cell_type": "code",
   "execution_count": 1,
   "metadata": {},
   "outputs": [
    {
     "data": {
      "text/html": [
       "<div>\n",
       "<style scoped>\n",
       "    .dataframe tbody tr th:only-of-type {\n",
       "        vertical-align: middle;\n",
       "    }\n",
       "\n",
       "    .dataframe tbody tr th {\n",
       "        vertical-align: top;\n",
       "    }\n",
       "\n",
       "    .dataframe thead th {\n",
       "        text-align: right;\n",
       "    }\n",
       "</style>\n",
       "<table border=\"1\" class=\"dataframe\">\n",
       "  <thead>\n",
       "    <tr style=\"text-align: right;\">\n",
       "      <th></th>\n",
       "      <th>Название фестиваля</th>\n",
       "      <th>Место проведения</th>\n",
       "      <th>Дата проведения</th>\n",
       "    </tr>\n",
       "  </thead>\n",
       "  <tbody>\n",
       "    <tr>\n",
       "      <td>0</td>\n",
       "      <td>Музыкальный фестиваль «Усадьба Jazz»</td>\n",
       "      <td>Екатеринбург</td>\n",
       "      <td>01.07.2018</td>\n",
       "    </tr>\n",
       "    <tr>\n",
       "      <td>1</td>\n",
       "      <td>Фестиваль музыки и технологий Alfa Future People</td>\n",
       "      <td>Нижний Новгород</td>\n",
       "      <td>10.08.2018</td>\n",
       "    </tr>\n",
       "    <tr>\n",
       "      <td>2</td>\n",
       "      <td>Фестиваль еды «О, да! Еда!»</td>\n",
       "      <td>Санкт-Петербург</td>\n",
       "      <td>21.07.2018</td>\n",
       "    </tr>\n",
       "    <tr>\n",
       "      <td>3</td>\n",
       "      <td>Доброфест</td>\n",
       "      <td>Ярославль</td>\n",
       "      <td>29.07.2018</td>\n",
       "    </tr>\n",
       "    <tr>\n",
       "      <td>4</td>\n",
       "      <td>Park Live</td>\n",
       "      <td>Москва</td>\n",
       "      <td>28.07.2018</td>\n",
       "    </tr>\n",
       "    <tr>\n",
       "      <td>5</td>\n",
       "      <td>Пикник Афиши</td>\n",
       "      <td>Москва</td>\n",
       "      <td>04.08.2018</td>\n",
       "    </tr>\n",
       "    <tr>\n",
       "      <td>6</td>\n",
       "      <td>VK FEST</td>\n",
       "      <td>Санкт-Петербург</td>\n",
       "      <td>29.07.2018</td>\n",
       "    </tr>\n",
       "    <tr>\n",
       "      <td>7</td>\n",
       "      <td>Фестиваль «О, да! Еда!»</td>\n",
       "      <td>Иркутск</td>\n",
       "      <td>25.08.2018</td>\n",
       "    </tr>\n",
       "    <tr>\n",
       "      <td>8</td>\n",
       "      <td>Фестиваль «О, да! Еда!»</td>\n",
       "      <td>Владивосток</td>\n",
       "      <td>02.09.2018</td>\n",
       "    </tr>\n",
       "    <tr>\n",
       "      <td>9</td>\n",
       "      <td>Видфест</td>\n",
       "      <td>Москва</td>\n",
       "      <td>08.09.2018</td>\n",
       "    </tr>\n",
       "    <tr>\n",
       "      <td>10</td>\n",
       "      <td>«Нашествие 2018»</td>\n",
       "      <td>Тверь</td>\n",
       "      <td>05.08.2018</td>\n",
       "    </tr>\n",
       "  </tbody>\n",
       "</table>\n",
       "</div>"
      ],
      "text/plain": [
       "                                  Название фестиваля Место проведения  \\\n",
       "0               Музыкальный фестиваль «Усадьба Jazz»     Екатеринбург   \n",
       "1   Фестиваль музыки и технологий Alfa Future People  Нижний Новгород   \n",
       "2                        Фестиваль еды «О, да! Еда!»  Санкт-Петербург   \n",
       "3                                          Доброфест        Ярославль   \n",
       "4                                          Park Live           Москва   \n",
       "5                                       Пикник Афиши           Москва   \n",
       "6                                            VK FEST  Санкт-Петербург   \n",
       "7                            Фестиваль «О, да! Еда!»          Иркутск   \n",
       "8                            Фестиваль «О, да! Еда!»      Владивосток   \n",
       "9                                            Видфест           Москва   \n",
       "10                                  «Нашествие 2018»            Тверь   \n",
       "\n",
       "   Дата проведения  \n",
       "0       01.07.2018  \n",
       "1       10.08.2018  \n",
       "2       21.07.2018  \n",
       "3       29.07.2018  \n",
       "4       28.07.2018  \n",
       "5       04.08.2018  \n",
       "6       29.07.2018  \n",
       "7       25.08.2018  \n",
       "8       02.09.2018  \n",
       "9       08.09.2018  \n",
       "10      05.08.2018  "
      ]
     },
     "metadata": {},
     "output_type": "display_data"
    }
   ],
   "source": [
    "import pandas as pd\n",
    "import requests  \n",
    "from bs4 import (\n",
    "    BeautifulSoup,\n",
    ") \n",
    "\n",
    "URL = 'https://code.s3.yandex.net/learning-materials/data-analyst/festival_news/index.html'\n",
    "req = requests.get(URL) \n",
    "soup = BeautifulSoup(req.text, 'lxml')\n",
    "\n",
    "table = soup.find('table',attrs={'id': 'best_festivals'})\n",
    "\n",
    "heading_table = [] \n",
    "for row in table.find_all('th'): \n",
    "        heading_table.append(row.text) \n",
    "\n",
    "content=[] \n",
    "for row in table.find_all('tr'): \n",
    "    if not row.find_all('th'): \n",
    "            content.append([element.text for element in row.find_all('td')])\n",
    "\n",
    "festivals = pd.DataFrame(content, columns=heading_table) \n",
    "display(festivals)"
   ]
  },
  {
   "cell_type": "markdown",
   "metadata": {},
   "source": [
    "2. Найдём количество рейсов на каждой модели самолёта с вылетом в сентябре 2018 года."
   ]
  },
  {
   "cell_type": "markdown",
   "metadata": {},
   "source": [
    "``` mysql \n",
    "SELECT\n",
    "aircrafts.model AS model,\n",
    "COUNT(flight_id) AS flights_amount\n",
    "FROM \n",
    "    flights\n",
    "    INNER JOIN aircrafts ON flights.aircraft_code = aircrafts.aircraft_code\n",
    "WHERE \n",
    "    EXTRACT(MONTH FROM flights.departure_time) = 9\n",
    "GROUP BY\n",
    "   aircrafts.model;\n",
    "```"
   ]
  },
  {
   "cell_type": "markdown",
   "metadata": {},
   "source": [
    "3. Посчитаем количество рейсов по всем моделям самолётов Boeing, Airbus и другим в сентябре."
   ]
  },
  {
   "cell_type": "markdown",
   "metadata": {},
   "source": [
    "``` mysql \n",
    "SELECT\n",
    "\tCASE WHEN model LIKE 'Airbus%' THEN 'Airbus' \n",
    "\tWHEN model LIKE 'Boeing%' THEN 'Boeing' \n",
    "    ELSE 'other' END type_aircraft,\n",
    "    COUNT(flights.flight_id) flights_amount\n",
    "FROM\n",
    "    flights\n",
    "    INNER JOIN aircrafts ON flights.aircraft_code = aircrafts.aircraft_code\n",
    "WHERE \n",
    "    EXTRACT(MONTH FROM flights.departure_time) = 9\n",
    "GROUP BY\n",
    "    aircrafts.model;\n",
    "```"
   ]
  },
  {
   "cell_type": "markdown",
   "metadata": {},
   "source": [
    "4. Посчитаем среднее количество прибывающих рейсов в день для каждого города за август 2018 года. "
   ]
  },
  {
   "cell_type": "markdown",
   "metadata": {},
   "source": [
    "``` mysql \n",
    "SELECT\n",
    "    SUBQ.city,\n",
    "    AVG(SUBQ.flights_amount) AS average_flights\n",
    "FROM\n",
    "    (\n",
    "    SELECT\n",
    "        airports.city,\n",
    "        EXTRACT(DAY FROM flights.arrival_time) AS day_number,\n",
    "        COUNT(flights.flight_id) AS flights_amount\n",
    "    FROM\n",
    "        flights\n",
    "        INNER JOIN airports ON airports.airport_code = flights.arrival_airport\n",
    "    WHERE\n",
    "        EXTRACT(YEAR FROM flights.arrival_time) = 2018\n",
    "        AND EXTRACT(MONTH FROM flights.arrival_time) = 8\n",
    "    GROUP BY\n",
    "        city,\n",
    "        day_number\n",
    "    ) AS SUBQ\n",
    "GROUP BY\n",
    "    city;\n",
    "```"
   ]
  },
  {
   "cell_type": "markdown",
   "metadata": {},
   "source": [
    "5. Установим фестивали, которые проходили с 23 июля по 30 сентября 2018 года в Москве, и номер недели, в которую они проходили. "
   ]
  },
  {
   "cell_type": "markdown",
   "metadata": {},
   "source": [
    "``` mysql \n",
    "SELECT\n",
    "    festival_name,\n",
    "    EXTRACT(WEEK FROM festival_date) AS festival_week\n",
    "FROM\n",
    "    festivals\n",
    "WHERE\n",
    "    festival_city = 'Москва';\n",
    "```"
   ]
  },
  {
   "cell_type": "markdown",
   "metadata": {},
   "source": [
    "6. Для каждой недели с 23 июля по 30 сентября 2018 года посчитаем количество билетов, купленных на рейсы в Москву."
   ]
  },
  {
   "cell_type": "markdown",
   "metadata": {},
   "source": [
    "``` mysql \n",
    "SELECT\n",
    "    EXTRACT(week FROM CAST(flights.arrival_time AS date)) AS week_number,\n",
    "    COUNT(ticket_flights.ticket_no) AS ticket_amount,\n",
    "    sub.festival_week AS festival_week,\n",
    "    sub.festival_name AS festival_name\n",
    "    \n",
    "FROM tickets\n",
    "    LEFT JOIN ticket_flights ON ticket_flights.ticket_no  = tickets.ticket_no\n",
    "    LEFT JOIN flights ON flights.flight_id  = ticket_flights.flight_id\n",
    "    LEFT JOIN airports ON airports.airport_code = flights.arrival_airport\n",
    "    LEFT JOIN\n",
    "        (SELECT\n",
    "             festival_name,\n",
    "             EXTRACT(WEEK FROM CAST(festival_date AS date)) AS festival_week\n",
    "         FROM\n",
    "             festivals\n",
    "         WHERE\n",
    "             festival_city = 'Москва' AND festival_date BETWEEN '2018-07-23' AND '2018-09-30') as sub ON sub.festival_week = EXTRACT(week FROM CAST(flights.arrival_time AS date))\n",
    "WHERE\n",
    "    airports.city = 'Москва' AND\n",
    "    CAST(flights.arrival_time AS date) BETWEEN '2018-07-23' AND '2018-09-30'\n",
    "GROUP BY\n",
    "    EXTRACT(week FROM CAST(flights.arrival_time AS date)), \n",
    "    festival_week, \n",
    "    festival_name;\n",
    "```"
   ]
  },
  {
   "cell_type": "markdown",
   "metadata": {},
   "source": [
    "## Предобработка данных"
   ]
  },
  {
   "cell_type": "markdown",
   "metadata": {},
   "source": [
    "Для начала импортируем необходиые библиотеки:"
   ]
  },
  {
   "cell_type": "code",
   "execution_count": 2,
   "metadata": {},
   "outputs": [],
   "source": [
    "import pandas as pd\n",
    "import matplotlib.pyplot as plt\n",
    "import seaborn as sns\n",
    "sns.set(color_codes=True)"
   ]
  },
  {
   "cell_type": "markdown",
   "metadata": {},
   "source": [
    "Затем прочитаем наши датасеты. Первый - результат первого запроса."
   ]
  },
  {
   "cell_type": "code",
   "execution_count": 3,
   "metadata": {},
   "outputs": [
    {
     "data": {
      "text/html": [
       "<div>\n",
       "<style scoped>\n",
       "    .dataframe tbody tr th:only-of-type {\n",
       "        vertical-align: middle;\n",
       "    }\n",
       "\n",
       "    .dataframe tbody tr th {\n",
       "        vertical-align: top;\n",
       "    }\n",
       "\n",
       "    .dataframe thead th {\n",
       "        text-align: right;\n",
       "    }\n",
       "</style>\n",
       "<table border=\"1\" class=\"dataframe\">\n",
       "  <thead>\n",
       "    <tr style=\"text-align: right;\">\n",
       "      <th></th>\n",
       "      <th>model</th>\n",
       "      <th>flights_amount</th>\n",
       "    </tr>\n",
       "  </thead>\n",
       "  <tbody>\n",
       "    <tr>\n",
       "      <td>0</td>\n",
       "      <td>Airbus A319-100</td>\n",
       "      <td>607</td>\n",
       "    </tr>\n",
       "    <tr>\n",
       "      <td>1</td>\n",
       "      <td>Airbus A321-200</td>\n",
       "      <td>960</td>\n",
       "    </tr>\n",
       "    <tr>\n",
       "      <td>2</td>\n",
       "      <td>Boeing 737-300</td>\n",
       "      <td>630</td>\n",
       "    </tr>\n",
       "    <tr>\n",
       "      <td>3</td>\n",
       "      <td>Boeing 767-300</td>\n",
       "      <td>600</td>\n",
       "    </tr>\n",
       "    <tr>\n",
       "      <td>4</td>\n",
       "      <td>Boeing 777-300</td>\n",
       "      <td>300</td>\n",
       "    </tr>\n",
       "    <tr>\n",
       "      <td>5</td>\n",
       "      <td>Bombardier CRJ-200</td>\n",
       "      <td>4446</td>\n",
       "    </tr>\n",
       "    <tr>\n",
       "      <td>6</td>\n",
       "      <td>Cessna 208 Caravan</td>\n",
       "      <td>4557</td>\n",
       "    </tr>\n",
       "    <tr>\n",
       "      <td>7</td>\n",
       "      <td>Sukhoi SuperJet-100</td>\n",
       "      <td>4185</td>\n",
       "    </tr>\n",
       "  </tbody>\n",
       "</table>\n",
       "</div>"
      ],
      "text/plain": [
       "                 model  flights_amount\n",
       "0      Airbus A319-100             607\n",
       "1      Airbus A321-200             960\n",
       "2       Boeing 737-300             630\n",
       "3       Boeing 767-300             600\n",
       "4       Boeing 777-300             300\n",
       "5   Bombardier CRJ-200            4446\n",
       "6   Cessna 208 Caravan            4557\n",
       "7  Sukhoi SuperJet-100            4185"
      ]
     },
     "metadata": {},
     "output_type": "display_data"
    }
   ],
   "source": [
    "df = pd.read_csv('/datasets/query_1.csv')\n",
    "display(df)"
   ]
  },
  {
   "cell_type": "markdown",
   "metadata": {},
   "source": [
    "В нём содержится информация о:\n",
    "\n",
    "model — модели самолета;\n",
    "\n",
    "flights_amount — количество рейсов для каждой модели самолетов model в сентябре 2018 года."
   ]
  },
  {
   "cell_type": "markdown",
   "metadata": {},
   "source": [
    "Прочитаем второй датасет - результат третьего запроса."
   ]
  },
  {
   "cell_type": "code",
   "execution_count": 4,
   "metadata": {},
   "outputs": [
    {
     "data": {
      "text/html": [
       "<div>\n",
       "<style scoped>\n",
       "    .dataframe tbody tr th:only-of-type {\n",
       "        vertical-align: middle;\n",
       "    }\n",
       "\n",
       "    .dataframe tbody tr th {\n",
       "        vertical-align: top;\n",
       "    }\n",
       "\n",
       "    .dataframe thead th {\n",
       "        text-align: right;\n",
       "    }\n",
       "</style>\n",
       "<table border=\"1\" class=\"dataframe\">\n",
       "  <thead>\n",
       "    <tr style=\"text-align: right;\">\n",
       "      <th></th>\n",
       "      <th>city</th>\n",
       "      <th>average_flights</th>\n",
       "    </tr>\n",
       "  </thead>\n",
       "  <tbody>\n",
       "    <tr>\n",
       "      <td>0</td>\n",
       "      <td>Абакан</td>\n",
       "      <td>3.870968</td>\n",
       "    </tr>\n",
       "    <tr>\n",
       "      <td>1</td>\n",
       "      <td>Анадырь</td>\n",
       "      <td>1.000000</td>\n",
       "    </tr>\n",
       "    <tr>\n",
       "      <td>2</td>\n",
       "      <td>Анапа</td>\n",
       "      <td>2.161290</td>\n",
       "    </tr>\n",
       "    <tr>\n",
       "      <td>3</td>\n",
       "      <td>Архангельск</td>\n",
       "      <td>5.354839</td>\n",
       "    </tr>\n",
       "    <tr>\n",
       "      <td>4</td>\n",
       "      <td>Астрахань</td>\n",
       "      <td>2.451613</td>\n",
       "    </tr>\n",
       "    <tr>\n",
       "      <td>...</td>\n",
       "      <td>...</td>\n",
       "      <td>...</td>\n",
       "    </tr>\n",
       "    <tr>\n",
       "      <td>96</td>\n",
       "      <td>Чита</td>\n",
       "      <td>1.580645</td>\n",
       "    </tr>\n",
       "    <tr>\n",
       "      <td>97</td>\n",
       "      <td>Элиста</td>\n",
       "      <td>4.870968</td>\n",
       "    </tr>\n",
       "    <tr>\n",
       "      <td>98</td>\n",
       "      <td>Южно-Сахалинск</td>\n",
       "      <td>4.290323</td>\n",
       "    </tr>\n",
       "    <tr>\n",
       "      <td>99</td>\n",
       "      <td>Якутск</td>\n",
       "      <td>2.741935</td>\n",
       "    </tr>\n",
       "    <tr>\n",
       "      <td>100</td>\n",
       "      <td>Ярославль</td>\n",
       "      <td>1.322581</td>\n",
       "    </tr>\n",
       "  </tbody>\n",
       "</table>\n",
       "<p>101 rows × 2 columns</p>\n",
       "</div>"
      ],
      "text/plain": [
       "               city  average_flights\n",
       "0            Абакан         3.870968\n",
       "1           Анадырь         1.000000\n",
       "2             Анапа         2.161290\n",
       "3       Архангельск         5.354839\n",
       "4         Астрахань         2.451613\n",
       "..              ...              ...\n",
       "96             Чита         1.580645\n",
       "97           Элиста         4.870968\n",
       "98   Южно-Сахалинск         4.290323\n",
       "99           Якутск         2.741935\n",
       "100       Ярославль         1.322581\n",
       "\n",
       "[101 rows x 2 columns]"
      ]
     },
     "metadata": {},
     "output_type": "display_data"
    }
   ],
   "source": [
    "df2 = pd.read_csv('/datasets/query_3.csv')\n",
    "display(df2)"
   ]
  },
  {
   "cell_type": "markdown",
   "metadata": {},
   "source": [
    "В нём содержится информация о:\n",
    "\n",
    "city — городах;\n",
    "\n",
    "average_flights — среднем количестве рейсов, прибывающих в город city за день в августе 2018 года."
   ]
  },
  {
   "cell_type": "markdown",
   "metadata": {},
   "source": [
    "Посмотрим общую информацию о таблицах:"
   ]
  },
  {
   "cell_type": "code",
   "execution_count": 5,
   "metadata": {},
   "outputs": [
    {
     "name": "stdout",
     "output_type": "stream",
     "text": [
      "<class 'pandas.core.frame.DataFrame'>\n",
      "RangeIndex: 8 entries, 0 to 7\n",
      "Data columns (total 2 columns):\n",
      "model             8 non-null object\n",
      "flights_amount    8 non-null int64\n",
      "dtypes: int64(1), object(1)\n",
      "memory usage: 256.0+ bytes\n"
     ]
    }
   ],
   "source": [
    "df.info()"
   ]
  },
  {
   "cell_type": "code",
   "execution_count": 6,
   "metadata": {},
   "outputs": [
    {
     "name": "stdout",
     "output_type": "stream",
     "text": [
      "<class 'pandas.core.frame.DataFrame'>\n",
      "RangeIndex: 101 entries, 0 to 100\n",
      "Data columns (total 2 columns):\n",
      "city               101 non-null object\n",
      "average_flights    101 non-null float64\n",
      "dtypes: float64(1), object(1)\n",
      "memory usage: 1.7+ KB\n"
     ]
    }
   ],
   "source": [
    "df2.info()"
   ]
  },
  {
   "cell_type": "markdown",
   "metadata": {},
   "source": [
    "Типы данных корректные. Посмотрим на наличие пропусков:"
   ]
  },
  {
   "cell_type": "code",
   "execution_count": 7,
   "metadata": {},
   "outputs": [
    {
     "data": {
      "text/plain": [
       "model             0\n",
       "flights_amount    0\n",
       "dtype: int64"
      ]
     },
     "execution_count": 7,
     "metadata": {},
     "output_type": "execute_result"
    }
   ],
   "source": [
    "df.isnull().sum()"
   ]
  },
  {
   "cell_type": "code",
   "execution_count": 8,
   "metadata": {},
   "outputs": [
    {
     "data": {
      "text/plain": [
       "city               0\n",
       "average_flights    0\n",
       "dtype: int64"
      ]
     },
     "execution_count": 8,
     "metadata": {},
     "output_type": "execute_result"
    }
   ],
   "source": [
    "df2.isnull().sum()"
   ]
  },
  {
   "cell_type": "markdown",
   "metadata": {},
   "source": [
    "Пропусков нет.\n",
    "Далее посмотрим имеются ли дубликаты в данных:"
   ]
  },
  {
   "cell_type": "code",
   "execution_count": 9,
   "metadata": {},
   "outputs": [
    {
     "data": {
      "text/plain": [
       "0"
      ]
     },
     "execution_count": 9,
     "metadata": {},
     "output_type": "execute_result"
    }
   ],
   "source": [
    "df.duplicated().sum()"
   ]
  },
  {
   "cell_type": "code",
   "execution_count": 10,
   "metadata": {},
   "outputs": [
    {
     "data": {
      "text/plain": [
       "0"
      ]
     },
     "execution_count": 10,
     "metadata": {},
     "output_type": "execute_result"
    }
   ],
   "source": [
    "df2.duplicated().sum()"
   ]
  },
  {
   "cell_type": "markdown",
   "metadata": {},
   "source": [
    "Дубликатов также в данных нет.\n",
    "\n",
    "Данные чистые и готовы к анализу."
   ]
  },
  {
   "cell_type": "markdown",
   "metadata": {},
   "source": [
    "## Анализ данных"
   ]
  },
  {
   "cell_type": "markdown",
   "metadata": {},
   "source": [
    "Отобразим среднее количество рейсов по городам за день:"
   ]
  },
  {
   "cell_type": "code",
   "execution_count": 11,
   "metadata": {},
   "outputs": [
    {
     "data": {
      "text/plain": [
       "<matplotlib.axes._subplots.AxesSubplot at 0x7f5ea9c2b690>"
      ]
     },
     "execution_count": 11,
     "metadata": {},
     "output_type": "execute_result"
    },
    {
     "data": {
      "image/png": "[encoded data removed]",
      "text/plain": [
       "<Figure size 504x1440 with 1 Axes>"
      ]
     },
     "metadata": {},
     "output_type": "display_data"
    }
   ],
   "source": [
    "df2.sort_values(by=\"average_flights\", ascending=True).plot(x='city', y=\"average_flights\", kind ='barh', grid=True, figsize=(7, 20), title='Среднее количество рейсов в день х города', color='y')"
   ]
  },
  {
   "cell_type": "markdown",
   "metadata": {},
   "source": [
    "В основном большинство рейсов ходят между городами федерального значения, городами миллионниками и т.п.\n",
    "\n",
    "Большинство региональных городов имеют один рейс в день, скорее всего в сторону столицы."
   ]
  },
  {
   "cell_type": "markdown",
   "metadata": {},
   "source": [
    "Отобразим ТОП-10 городов по количеству рейсов:"
   ]
  },
  {
   "cell_type": "code",
   "execution_count": 12,
   "metadata": {},
   "outputs": [
    {
     "data": {
      "text/html": [
       "<div>\n",
       "<style scoped>\n",
       "    .dataframe tbody tr th:only-of-type {\n",
       "        vertical-align: middle;\n",
       "    }\n",
       "\n",
       "    .dataframe tbody tr th {\n",
       "        vertical-align: top;\n",
       "    }\n",
       "\n",
       "    .dataframe thead th {\n",
       "        text-align: right;\n",
       "    }\n",
       "</style>\n",
       "<table border=\"1\" class=\"dataframe\">\n",
       "  <thead>\n",
       "    <tr style=\"text-align: right;\">\n",
       "      <th></th>\n",
       "      <th>city</th>\n",
       "      <th>average_flights</th>\n",
       "    </tr>\n",
       "  </thead>\n",
       "  <tbody>\n",
       "    <tr>\n",
       "      <td>43</td>\n",
       "      <td>Москва</td>\n",
       "      <td>129.774194</td>\n",
       "    </tr>\n",
       "    <tr>\n",
       "      <td>70</td>\n",
       "      <td>Санкт-Петербург</td>\n",
       "      <td>31.161290</td>\n",
       "    </tr>\n",
       "    <tr>\n",
       "      <td>54</td>\n",
       "      <td>Новосибирск</td>\n",
       "      <td>17.322581</td>\n",
       "    </tr>\n",
       "    <tr>\n",
       "      <td>33</td>\n",
       "      <td>Красноярск</td>\n",
       "      <td>11.580645</td>\n",
       "    </tr>\n",
       "    <tr>\n",
       "      <td>20</td>\n",
       "      <td>Екатеринбург</td>\n",
       "      <td>11.322581</td>\n",
       "    </tr>\n",
       "    <tr>\n",
       "      <td>67</td>\n",
       "      <td>Ростов-на-Дону</td>\n",
       "      <td>10.193548</td>\n",
       "    </tr>\n",
       "    <tr>\n",
       "      <td>63</td>\n",
       "      <td>Пермь</td>\n",
       "      <td>10.129032</td>\n",
       "    </tr>\n",
       "    <tr>\n",
       "      <td>10</td>\n",
       "      <td>Брянск</td>\n",
       "      <td>10.000000</td>\n",
       "    </tr>\n",
       "    <tr>\n",
       "      <td>74</td>\n",
       "      <td>Сочи</td>\n",
       "      <td>9.612903</td>\n",
       "    </tr>\n",
       "    <tr>\n",
       "      <td>84</td>\n",
       "      <td>Ульяновск</td>\n",
       "      <td>9.580645</td>\n",
       "    </tr>\n",
       "  </tbody>\n",
       "</table>\n",
       "</div>"
      ],
      "text/plain": [
       "               city  average_flights\n",
       "43           Москва       129.774194\n",
       "70  Санкт-Петербург        31.161290\n",
       "54      Новосибирск        17.322581\n",
       "33       Красноярск        11.580645\n",
       "20     Екатеринбург        11.322581\n",
       "67   Ростов-на-Дону        10.193548\n",
       "63            Пермь        10.129032\n",
       "10           Брянск        10.000000\n",
       "74             Сочи         9.612903\n",
       "84        Ульяновск         9.580645"
      ]
     },
     "metadata": {},
     "output_type": "display_data"
    }
   ],
   "source": [
    "display(df2.sort_values(by=\"average_flights\", ascending=False).head(10))"
   ]
  },
  {
   "cell_type": "code",
   "execution_count": 13,
   "metadata": {},
   "outputs": [
    {
     "data": {
      "text/plain": [
       "<matplotlib.axes._subplots.AxesSubplot at 0x7f5ea0fbefd0>"
      ]
     },
     "execution_count": 13,
     "metadata": {},
     "output_type": "execute_result"
    },
    {
     "data": {
      "image/png": "[encoded data removed]",
      "text/plain": [
       "<Figure size 504x360 with 1 Axes>"
      ]
     },
     "metadata": {},
     "output_type": "display_data"
    }
   ],
   "source": [
    "df2.sort_values(by=\"average_flights\", ascending=False).head(10).plot(x='city', y=\"average_flights\", kind ='barh', grid=True, figsize=(7, 5), title='Среднее количество рейсов в день х ТОП-10 городов', color='y')"
   ]
  },
  {
   "cell_type": "markdown",
   "metadata": {},
   "source": [
    "Отобразили ТОП-10 городов по среднему количеству рейсов, прибывающих за день в августе 2018 года.\n",
    "\n",
    "Москва - несомненный лидер. Также отрываются Санкт-Петербург и Новосибирск. Остальные города в ТОП-10 незначительно отличаются по количетсву рейсов за данный промежуток времени.\n",
    " \n",
    " Далее посмотрим какое количество рейсов приходилось на каждую модель самолета."
   ]
  },
  {
   "cell_type": "code",
   "execution_count": 14,
   "metadata": {},
   "outputs": [
    {
     "data": {
      "text/html": [
       "<div>\n",
       "<style scoped>\n",
       "    .dataframe tbody tr th:only-of-type {\n",
       "        vertical-align: middle;\n",
       "    }\n",
       "\n",
       "    .dataframe tbody tr th {\n",
       "        vertical-align: top;\n",
       "    }\n",
       "\n",
       "    .dataframe thead th {\n",
       "        text-align: right;\n",
       "    }\n",
       "</style>\n",
       "<table border=\"1\" class=\"dataframe\">\n",
       "  <thead>\n",
       "    <tr style=\"text-align: right;\">\n",
       "      <th></th>\n",
       "      <th>model</th>\n",
       "      <th>flights_amount</th>\n",
       "    </tr>\n",
       "  </thead>\n",
       "  <tbody>\n",
       "    <tr>\n",
       "      <td>6</td>\n",
       "      <td>Cessna 208 Caravan</td>\n",
       "      <td>4557</td>\n",
       "    </tr>\n",
       "    <tr>\n",
       "      <td>5</td>\n",
       "      <td>Bombardier CRJ-200</td>\n",
       "      <td>4446</td>\n",
       "    </tr>\n",
       "    <tr>\n",
       "      <td>7</td>\n",
       "      <td>Sukhoi SuperJet-100</td>\n",
       "      <td>4185</td>\n",
       "    </tr>\n",
       "    <tr>\n",
       "      <td>1</td>\n",
       "      <td>Airbus A321-200</td>\n",
       "      <td>960</td>\n",
       "    </tr>\n",
       "    <tr>\n",
       "      <td>2</td>\n",
       "      <td>Boeing 737-300</td>\n",
       "      <td>630</td>\n",
       "    </tr>\n",
       "    <tr>\n",
       "      <td>0</td>\n",
       "      <td>Airbus A319-100</td>\n",
       "      <td>607</td>\n",
       "    </tr>\n",
       "    <tr>\n",
       "      <td>3</td>\n",
       "      <td>Boeing 767-300</td>\n",
       "      <td>600</td>\n",
       "    </tr>\n",
       "    <tr>\n",
       "      <td>4</td>\n",
       "      <td>Boeing 777-300</td>\n",
       "      <td>300</td>\n",
       "    </tr>\n",
       "  </tbody>\n",
       "</table>\n",
       "</div>"
      ],
      "text/plain": [
       "                 model  flights_amount\n",
       "6   Cessna 208 Caravan            4557\n",
       "5   Bombardier CRJ-200            4446\n",
       "7  Sukhoi SuperJet-100            4185\n",
       "1      Airbus A321-200             960\n",
       "2       Boeing 737-300             630\n",
       "0      Airbus A319-100             607\n",
       "3       Boeing 767-300             600\n",
       "4       Boeing 777-300             300"
      ]
     },
     "metadata": {},
     "output_type": "display_data"
    }
   ],
   "source": [
    "display(df.sort_values(by=\"flights_amount\", ascending=False))"
   ]
  },
  {
   "cell_type": "code",
   "execution_count": 15,
   "metadata": {},
   "outputs": [
    {
     "data": {
      "text/plain": [
       "<matplotlib.axes._subplots.AxesSubplot at 0x7f5ea1300250>"
      ]
     },
     "execution_count": 15,
     "metadata": {},
     "output_type": "execute_result"
    },
    {
     "data": {
      "image/png": "[encoded data removed]",
      "text/plain": [
       "<Figure size 504x360 with 1 Axes>"
      ]
     },
     "metadata": {},
     "output_type": "display_data"
    }
   ],
   "source": [
    "df.sort_values(by=\"flights_amount\").head(10).plot(x='model', y=\"flights_amount\", kind ='barh', grid=True, figsize=(7, 5), title='Количество рейсов за месяц х модель самолёта', color='y')"
   ]
  },
  {
   "cell_type": "markdown",
   "metadata": {},
   "source": [
    "Самая популярная модель самолётов среди количетсва рейсов - Cessna 208 Caravan. На нее приходилось 4557 рейсов в августе. Наименее популярная модель по количеству рейсов - Boeing 777-300.\n",
    "\n",
    "Это связано с тем, что Boeing 777-300 имеет 550 посадочных мест, в то время как Cessna 208 Caravan - 14.\n",
    "\n",
    "Отсюда мы и можем сделать вывод: Cessna 208 Caravan – это короткие развлекательные полеты в районе аэроклуба."
   ]
  },
  {
   "cell_type": "code",
   "execution_count": null,
   "metadata": {},
   "outputs": [],
   "source": []
  }
 ],
 "metadata": {
  "ExecuteTimeLog": [
   {
    "duration": 745,
    "start_time": "2021-11-03T16:51:41.190Z"
   },
   {
    "duration": 35,
    "start_time": "2021-11-03T16:53:55.391Z"
   },
   {
    "duration": 17,
    "start_time": "2021-11-03T17:49:09.369Z"
   },
   {
    "duration": 27,
    "start_time": "2021-11-03T17:49:21.042Z"
   },
   {
    "duration": 451,
    "start_time": "2021-11-03T17:51:14.099Z"
   },
   {
    "duration": 13,
    "start_time": "2021-11-03T17:51:20.803Z"
   },
   {
    "duration": 7,
    "start_time": "2021-11-03T17:52:06.233Z"
   },
   {
    "duration": 9,
    "start_time": "2021-11-03T17:52:39.078Z"
   },
   {
    "duration": 9,
    "start_time": "2021-11-03T17:52:45.706Z"
   },
   {
    "duration": 10,
    "start_time": "2021-11-03T17:56:19.627Z"
   },
   {
    "duration": 13,
    "start_time": "2021-11-03T17:56:27.385Z"
   },
   {
    "duration": 10,
    "start_time": "2021-11-03T17:58:04.730Z"
   },
   {
    "duration": 13,
    "start_time": "2021-11-03T17:58:13.638Z"
   },
   {
    "duration": 6,
    "start_time": "2021-11-03T17:59:14.617Z"
   },
   {
    "duration": 6,
    "start_time": "2021-11-03T17:59:21.139Z"
   },
   {
    "duration": 8,
    "start_time": "2021-11-03T18:00:14.289Z"
   },
   {
    "duration": 750,
    "start_time": "2021-11-03T18:00:50.688Z"
   },
   {
    "duration": 34,
    "start_time": "2021-11-03T18:00:51.440Z"
   },
   {
    "duration": 27,
    "start_time": "2021-11-03T18:00:51.477Z"
   },
   {
    "duration": 13,
    "start_time": "2021-11-03T18:00:51.507Z"
   },
   {
    "duration": 18,
    "start_time": "2021-11-03T18:00:51.523Z"
   },
   {
    "duration": 9,
    "start_time": "2021-11-03T18:00:51.543Z"
   },
   {
    "duration": 9,
    "start_time": "2021-11-03T18:00:51.555Z"
   },
   {
    "duration": 7,
    "start_time": "2021-11-03T18:02:52.309Z"
   },
   {
    "duration": 7,
    "start_time": "2021-11-03T18:02:59.238Z"
   },
   {
    "duration": 326,
    "start_time": "2021-11-03T18:03:12.184Z"
   },
   {
    "duration": 8,
    "start_time": "2021-11-03T18:03:19.571Z"
   },
   {
    "duration": 302,
    "start_time": "2021-11-03T19:06:44.370Z"
   },
   {
    "duration": 227,
    "start_time": "2021-11-03T19:06:59.877Z"
   },
   {
    "duration": 840,
    "start_time": "2021-11-03T20:01:46.940Z"
   },
   {
    "duration": 275,
    "start_time": "2021-11-03T20:01:58.458Z"
   },
   {
    "duration": 256,
    "start_time": "2021-11-03T20:02:08.942Z"
   },
   {
    "duration": 222,
    "start_time": "2021-11-03T20:05:11.301Z"
   },
   {
    "duration": 254,
    "start_time": "2021-11-03T20:05:18.250Z"
   },
   {
    "duration": 219,
    "start_time": "2021-11-03T20:07:17.470Z"
   },
   {
    "duration": 226,
    "start_time": "2021-11-03T20:08:23.165Z"
   },
   {
    "duration": 239,
    "start_time": "2021-11-03T20:08:30.694Z"
   },
   {
    "duration": 16,
    "start_time": "2021-11-03T20:08:54.014Z"
   },
   {
    "duration": 13,
    "start_time": "2021-11-03T20:09:13.493Z"
   },
   {
    "duration": 13,
    "start_time": "2021-11-03T20:27:42.115Z"
   },
   {
    "duration": 25,
    "start_time": "2021-11-03T20:38:48.832Z"
   },
   {
    "duration": 431,
    "start_time": "2021-11-03T20:58:53.320Z"
   },
   {
    "duration": 14326,
    "start_time": "2021-11-03T20:59:11.941Z"
   },
   {
    "duration": 607,
    "start_time": "2021-11-03T20:59:49.507Z"
   },
   {
    "duration": 1399,
    "start_time": "2021-11-03T21:15:53.409Z"
   },
   {
    "duration": 26,
    "start_time": "2021-11-03T21:15:54.811Z"
   },
   {
    "duration": 25,
    "start_time": "2021-11-03T21:15:54.840Z"
   },
   {
    "duration": 8,
    "start_time": "2021-11-03T21:15:54.868Z"
   },
   {
    "duration": 11,
    "start_time": "2021-11-03T21:15:54.878Z"
   },
   {
    "duration": 40,
    "start_time": "2021-11-03T21:15:54.891Z"
   },
   {
    "duration": 8,
    "start_time": "2021-11-03T21:15:54.933Z"
   },
   {
    "duration": 6,
    "start_time": "2021-11-03T21:15:54.945Z"
   },
   {
    "duration": 8,
    "start_time": "2021-11-03T21:15:54.954Z"
   },
   {
    "duration": 18,
    "start_time": "2021-11-03T21:15:54.965Z"
   },
   {
    "duration": 50,
    "start_time": "2021-11-03T21:15:54.985Z"
   },
   {
    "duration": 422,
    "start_time": "2021-11-03T21:17:12.157Z"
   },
   {
    "duration": 320,
    "start_time": "2021-11-03T21:17:24.165Z"
   },
   {
    "duration": 417,
    "start_time": "2021-11-03T21:17:37.525Z"
   },
   {
    "duration": 756,
    "start_time": "2021-11-03T21:17:45.112Z"
   },
   {
    "duration": 436,
    "start_time": "2021-11-03T21:17:52.728Z"
   },
   {
    "duration": 415,
    "start_time": "2021-11-03T21:18:18.669Z"
   },
   {
    "duration": 425,
    "start_time": "2021-11-03T21:18:37.235Z"
   },
   {
    "duration": 494,
    "start_time": "2021-11-03T21:18:48.835Z"
   },
   {
    "duration": 438,
    "start_time": "2021-11-03T21:21:27.320Z"
   },
   {
    "duration": 433,
    "start_time": "2021-11-03T21:21:37.196Z"
   },
   {
    "duration": 547,
    "start_time": "2021-11-03T21:21:46.353Z"
   },
   {
    "duration": 11,
    "start_time": "2021-11-03T21:23:19.850Z"
   },
   {
    "duration": 4106,
    "start_time": "2021-11-03T21:37:13.018Z"
   },
   {
    "duration": 796,
    "start_time": "2021-11-03T21:40:48.667Z"
   },
   {
    "duration": 263,
    "start_time": "2021-11-03T21:41:05.283Z"
   },
   {
    "duration": 4224,
    "start_time": "2021-11-03T21:41:14.408Z"
   },
   {
    "duration": 488,
    "start_time": "2021-11-03T21:42:52.397Z"
   },
   {
    "duration": 503,
    "start_time": "2021-11-03T21:43:14.731Z"
   },
   {
    "duration": 482,
    "start_time": "2021-11-03T21:43:25.664Z"
   },
   {
    "duration": 510,
    "start_time": "2021-11-03T21:43:38.049Z"
   },
   {
    "duration": 1663,
    "start_time": "2021-11-03T21:44:48.442Z"
   },
   {
    "duration": 27,
    "start_time": "2021-11-03T21:44:50.108Z"
   },
   {
    "duration": 26,
    "start_time": "2021-11-03T21:44:50.139Z"
   },
   {
    "duration": 9,
    "start_time": "2021-11-03T21:44:50.168Z"
   },
   {
    "duration": 13,
    "start_time": "2021-11-03T21:44:50.179Z"
   },
   {
    "duration": 37,
    "start_time": "2021-11-03T21:44:50.195Z"
   },
   {
    "duration": 14,
    "start_time": "2021-11-03T21:44:50.234Z"
   },
   {
    "duration": 7,
    "start_time": "2021-11-03T21:44:50.252Z"
   },
   {
    "duration": 9,
    "start_time": "2021-11-03T21:44:50.262Z"
   },
   {
    "duration": 13,
    "start_time": "2021-11-03T21:44:50.273Z"
   },
   {
    "duration": 542,
    "start_time": "2021-11-03T21:44:50.288Z"
   },
   {
    "duration": 12,
    "start_time": "2021-11-03T21:44:50.833Z"
   },
   {
    "duration": 492,
    "start_time": "2021-11-03T21:44:50.847Z"
   },
   {
    "duration": 538,
    "start_time": "2021-11-03T21:45:57.524Z"
   },
   {
    "duration": 464,
    "start_time": "2021-11-03T21:46:17.354Z"
   },
   {
    "duration": 2424,
    "start_time": "2021-11-03T21:47:58.573Z"
   },
   {
    "duration": 2673,
    "start_time": "2021-11-03T21:48:11.816Z"
   },
   {
    "duration": 2670,
    "start_time": "2021-11-03T21:48:51.898Z"
   },
   {
    "duration": 1482,
    "start_time": "2021-11-03T21:49:24.331Z"
   },
   {
    "duration": 30,
    "start_time": "2021-11-03T21:49:25.816Z"
   },
   {
    "duration": 28,
    "start_time": "2021-11-03T21:49:25.849Z"
   },
   {
    "duration": 8,
    "start_time": "2021-11-03T21:49:25.881Z"
   },
   {
    "duration": 10,
    "start_time": "2021-11-03T21:49:25.892Z"
   },
   {
    "duration": 34,
    "start_time": "2021-11-03T21:49:25.904Z"
   },
   {
    "duration": 17,
    "start_time": "2021-11-03T21:49:25.941Z"
   },
   {
    "duration": 6,
    "start_time": "2021-11-03T21:49:25.961Z"
   },
   {
    "duration": 7,
    "start_time": "2021-11-03T21:49:25.969Z"
   },
   {
    "duration": 2686,
    "start_time": "2021-11-03T21:49:25.978Z"
   },
   {
    "duration": 12,
    "start_time": "2021-11-03T21:49:28.666Z"
   },
   {
    "duration": 545,
    "start_time": "2021-11-03T21:49:28.681Z"
   },
   {
    "duration": 13,
    "start_time": "2021-11-03T21:49:29.232Z"
   },
   {
    "duration": 505,
    "start_time": "2021-11-03T21:49:29.248Z"
   },
   {
    "duration": 1470,
    "start_time": "2021-11-04T03:57:33.017Z"
   },
   {
    "duration": 30,
    "start_time": "2021-11-04T03:57:34.490Z"
   },
   {
    "duration": 29,
    "start_time": "2021-11-04T03:57:34.524Z"
   },
   {
    "duration": 11,
    "start_time": "2021-11-04T03:57:34.556Z"
   },
   {
    "duration": 10,
    "start_time": "2021-11-04T03:57:34.570Z"
   },
   {
    "duration": 41,
    "start_time": "2021-11-04T03:57:34.583Z"
   },
   {
    "duration": 9,
    "start_time": "2021-11-04T03:57:34.627Z"
   },
   {
    "duration": 11,
    "start_time": "2021-11-04T03:57:34.639Z"
   },
   {
    "duration": 6,
    "start_time": "2021-11-04T03:57:34.655Z"
   },
   {
    "duration": 2502,
    "start_time": "2021-11-04T03:57:34.664Z"
   },
   {
    "duration": 12,
    "start_time": "2021-11-04T03:57:37.168Z"
   },
   {
    "duration": 508,
    "start_time": "2021-11-04T03:57:37.183Z"
   },
   {
    "duration": 11,
    "start_time": "2021-11-04T03:57:37.694Z"
   },
   {
    "duration": 446,
    "start_time": "2021-11-04T03:57:37.723Z"
   },
   {
    "duration": 90,
    "start_time": "2021-11-04T10:24:54.605Z"
   },
   {
    "duration": 1088,
    "start_time": "2021-11-10T18:55:38.910Z"
   },
   {
    "duration": 84,
    "start_time": "2021-11-10T18:55:52.718Z"
   },
   {
    "duration": 373,
    "start_time": "2021-11-10T18:56:59.296Z"
   },
   {
    "duration": 1170,
    "start_time": "2021-11-10T19:00:44.845Z"
   },
   {
    "duration": 129,
    "start_time": "2021-11-10T19:00:46.018Z"
   },
   {
    "duration": -2295,
    "start_time": "2021-11-10T19:00:48.447Z"
   },
   {
    "duration": -2298,
    "start_time": "2021-11-10T19:00:48.452Z"
   },
   {
    "duration": -2302,
    "start_time": "2021-11-10T19:00:48.458Z"
   },
   {
    "duration": -2304,
    "start_time": "2021-11-10T19:00:48.462Z"
   },
   {
    "duration": -2307,
    "start_time": "2021-11-10T19:00:48.467Z"
   },
   {
    "duration": -2310,
    "start_time": "2021-11-10T19:00:48.472Z"
   },
   {
    "duration": -2312,
    "start_time": "2021-11-10T19:00:48.476Z"
   },
   {
    "duration": -2325,
    "start_time": "2021-11-10T19:00:48.491Z"
   },
   {
    "duration": -2327,
    "start_time": "2021-11-10T19:00:48.495Z"
   },
   {
    "duration": -2331,
    "start_time": "2021-11-10T19:00:48.502Z"
   },
   {
    "duration": -2333,
    "start_time": "2021-11-10T19:00:48.506Z"
   },
   {
    "duration": -2337,
    "start_time": "2021-11-10T19:00:48.513Z"
   },
   {
    "duration": -2341,
    "start_time": "2021-11-10T19:00:48.519Z"
   },
   {
    "duration": -2345,
    "start_time": "2021-11-10T19:00:48.525Z"
   },
   {
    "duration": 128,
    "start_time": "2021-11-10T19:05:50.745Z"
   },
   {
    "duration": 1046,
    "start_time": "2021-11-10T19:15:18.646Z"
   },
   {
    "duration": 685,
    "start_time": "2021-11-10T19:15:19.694Z"
   },
   {
    "duration": 24,
    "start_time": "2021-11-10T19:15:20.383Z"
   },
   {
    "duration": 32,
    "start_time": "2021-11-10T19:15:20.410Z"
   },
   {
    "duration": 14,
    "start_time": "2021-11-10T19:15:20.445Z"
   },
   {
    "duration": 10,
    "start_time": "2021-11-10T19:15:20.462Z"
   },
   {
    "duration": 9,
    "start_time": "2021-11-10T19:15:20.476Z"
   },
   {
    "duration": 10,
    "start_time": "2021-11-10T19:15:20.490Z"
   },
   {
    "duration": 8,
    "start_time": "2021-11-10T19:15:20.502Z"
   },
   {
    "duration": 52,
    "start_time": "2021-11-10T19:15:20.512Z"
   },
   {
    "duration": 2770,
    "start_time": "2021-11-10T19:15:20.567Z"
   },
   {
    "duration": 26,
    "start_time": "2021-11-10T19:15:23.340Z"
   },
   {
    "duration": 559,
    "start_time": "2021-11-10T19:15:23.368Z"
   },
   {
    "duration": 10,
    "start_time": "2021-11-10T19:15:23.930Z"
   },
   {
    "duration": 461,
    "start_time": "2021-11-10T19:15:23.942Z"
   }
  ],
  "kernelspec": {
   "display_name": "Python 3",
   "language": "python",
   "name": "python3"
  },
  "language_info": {
   "codemirror_mode": {
    "name": "ipython",
    "version": 3
   },
   "file_extension": ".py",
   "mimetype": "text/x-python",
   "name": "python",
   "nbconvert_exporter": "python",
   "pygments_lexer": "ipython3",
   "version": "3.7.8"
  },
  "toc": {
   "base_numbering": 1,
   "nav_menu": {},
   "number_sections": true,
   "sideBar": true,
   "skip_h1_title": true,
   "title_cell": "Table of Contents",
   "title_sidebar": "Contents",
   "toc_cell": false,
   "toc_position": {},
   "toc_section_display": true,
   "toc_window_display": true
  }
 },
 "nbformat": 4,
 "nbformat_minor": 2
}
